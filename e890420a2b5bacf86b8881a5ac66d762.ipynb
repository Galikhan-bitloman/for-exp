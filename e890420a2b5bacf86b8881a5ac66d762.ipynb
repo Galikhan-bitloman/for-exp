{
 "cells": [
  {
   "cell_type": "markdown",
   "metadata": {},
   "source": [
    "**Напечатайте свое имя и фамилию с помощью <code>input()</code> и <code>.format</code>.**"
   ]
  },
  {
   "cell_type": "code",
   "execution_count": 3,
   "metadata": {},
   "outputs": [
    {
     "name": "stdout",
     "output_type": "stream",
     "text": [
      "Введите свое имя и фамилию:Galik\n"
     ]
    },
    {
     "data": {
      "text/plain": [
       "'Hello, Galik!'"
      ]
     },
     "execution_count": 3,
     "metadata": {},
     "output_type": "execute_result"
    }
   ],
   "source": [
    "a = input(\"Введите свое имя и фамилию:\")\n",
    "\n",
    "'Hello, {}!' .format(a)\n"
   ]
  },
  {
   "cell_type": "markdown",
   "metadata": {},
   "source": [
    "**1) Напишите выражение, равное 65. Например: 50 + 15; 72-7; 10 * 6 + 5 и. т. д. Попробуйте использовать больше арифметических операторов.**"
   ]
  },
  {
   "cell_type": "code",
   "execution_count": 10,
   "metadata": {},
   "outputs": [
    {
     "name": "stdout",
     "output_type": "stream",
     "text": [
      "Выберите аримф. оператор: +\n",
      "Введите первое число:50\n",
      "Введите второе число:15\n",
      "Результат -  65\n"
     ]
    }
   ],
   "source": [
    "def exp(a, b, c):\n",
    "    a = input(\"Выберите аримф. оператор: \")\n",
    "    b = int(input(\"Введите первое число:\"))\n",
    "    c = int(input(\"Введите второе число:\"))\n",
    "    if a == \"+\":\n",
    "        d = b + c\n",
    "        print(\"Результат - \", d)\n",
    "    elif a == \"-\":\n",
    "        d = b - c\n",
    "        print(\"Результат - \", d)\n",
    "    elif a == \"*\":\n",
    "        d = b * c\n",
    "        print(\"Результат - \", d)\n",
    "    elif a == \"/\":\n",
    "        d = b / c\n",
    "        print(\"Результат - \", d)\n",
    "exp(a = \"\", b = 0, c = 0)"
   ]
  },
  {
   "cell_type": "markdown",
   "metadata": {},
   "source": [
    "**2) Напишите уравнение, которое использует умножение, деление, показатель степени, сложение и вычитание, равное 70.25.**"
   ]
  },
  {
   "cell_type": "code",
   "execution_count": 13,
   "metadata": {},
   "outputs": [
    {
     "name": "stdout",
     "output_type": "stream",
     "text": [
      "6\n",
      "2\n",
      "3\n",
      "17\n",
      "0.75\n"
     ]
    },
    {
     "data": {
      "text/plain": [
       "70.25"
      ]
     },
     "execution_count": 13,
     "metadata": {},
     "output_type": "execute_result"
    }
   ],
   "source": [
    "def exp(a, b, c, d, e):\n",
    "    a = int(input())\n",
    "    b = int(input())\n",
    "    c = int(input())\n",
    "    d = int(input())\n",
    "    e = float(input())\n",
    "    return a ** 2  / b * c + d - e\n",
    "exp(a = 0, b = 0, c = 0, d = 0, e = 0)\n"
   ]
  },
  {
   "cell_type": "markdown",
   "metadata": {},
   "source": [
    "**3) Какой тип имеет результат выражения 3 + 1,5 + 4?**"
   ]
  },
  {
   "cell_type": "code",
   "execution_count": 14,
   "metadata": {},
   "outputs": [
    {
     "name": "stdout",
     "output_type": "stream",
     "text": [
      "<class 'float'>\n"
     ]
    }
   ],
   "source": [
    "a = 3 + 1.5 + 4\n",
    "print(type(a))"
   ]
  },
  {
   "cell_type": "markdown",
   "metadata": {},
   "source": [
    "**4) Что бы вы использовали, чтобы найти квадратный корень числа, а также его квадрат? Приведите примеры.**"
   ]
  },
  {
   "cell_type": "code",
   "execution_count": 21,
   "metadata": {},
   "outputs": [
    {
     "name": "stdout",
     "output_type": "stream",
     "text": [
      "3.0\n",
      "81\n"
     ]
    }
   ],
   "source": [
    "#квадратный корень\n",
    "a = 9 ** 0.5\n",
    "print(a)\n",
    "#квадрат числа\n",
    "b = 9 ** 2\n",
    "print(b)"
   ]
  },
  {
   "cell_type": "markdown",
   "metadata": {},
   "source": [
    "**5) Какой остаток дает число 100 при делении на 7?**"
   ]
  },
  {
   "cell_type": "code",
   "execution_count": 20,
   "metadata": {},
   "outputs": [
    {
     "name": "stdout",
     "output_type": "stream",
     "text": [
      "2\n"
     ]
    }
   ],
   "source": [
    "a = 100 % 7\n",
    "print(a)"
   ]
  },
  {
   "cell_type": "markdown",
   "metadata": {},
   "source": [
    "**6) 7 в 3-й степени?**"
   ]
  },
  {
   "cell_type": "code",
   "execution_count": 22,
   "metadata": {},
   "outputs": [
    {
     "name": "stdout",
     "output_type": "stream",
     "text": [
      "343\n"
     ]
    }
   ],
   "source": [
    "a = 7 ** 3\n",
    "print(a)"
   ]
  },
  {
   "cell_type": "markdown",
   "metadata": {},
   "source": [
    "**7) Прочитайте два целых числа и выведите три строки, где:**\n",
    "\n",
    "а) Первая строка содержит сумму двух чисел.\n",
    "\n",
    "б) Вторая строка содержит разницу двух чисел (первое - второе).\n",
    "\n",
    "в) Третья строка содержит произведение двух чисел.\n",
    "\n",
    "**Tip**: <code>a = int(input())</code>"
   ]
  },
  {
   "cell_type": "code",
   "execution_count": 23,
   "metadata": {},
   "outputs": [
    {
     "name": "stdout",
     "output_type": "stream",
     "text": [
      "4\n",
      "3\n"
     ]
    },
    {
     "data": {
      "text/plain": [
       "(7, 1, 12)"
      ]
     },
     "execution_count": 23,
     "metadata": {},
     "output_type": "execute_result"
    }
   ],
   "source": [
    "def exp(a, b):\n",
    "    a = int(input())\n",
    "    b = int(input())\n",
    "    return a + b, a - b, a * b\n",
    "exp(a = 0, b = 0)"
   ]
  },
  {
   "cell_type": "markdown",
   "metadata": {},
   "source": [
    "**8) Прочитайте два целых числа и выведите две строки.** \n",
    "\n",
    "a) Первая строка должна содержать целочисленное деление(integer division), <code>//</code>. \n",
    "\n",
    "b) Вторая строка должна содержать деление на число с плавающей запятой(float division), <code>/</code>."
   ]
  },
  {
   "cell_type": "code",
   "execution_count": 24,
   "metadata": {},
   "outputs": [
    {
     "name": "stdout",
     "output_type": "stream",
     "text": [
      "5\n",
      "3\n"
     ]
    },
    {
     "data": {
      "text/plain": [
       "(1.0, 1.6666666666666667)"
      ]
     },
     "execution_count": 24,
     "metadata": {},
     "output_type": "execute_result"
    }
   ],
   "source": [
    "def exp(a, b):\n",
    "    a = int(input())\n",
    "    b = float(input())\n",
    "    return a // b, a / b\n",
    "exp(a = 0, b = 0)"
   ]
  },
  {
   "cell_type": "markdown",
   "metadata": {},
   "source": [
    "# Прекрасная работа!"
   ]
  }
 ],
 "metadata": {
  "kernelspec": {
   "display_name": "Python 3",
   "language": "python",
   "name": "python3"
  },
  "language_info": {
   "codemirror_mode": {
    "name": "ipython",
    "version": 3
   },
   "file_extension": ".py",
   "mimetype": "text/x-python",
   "name": "python",
   "nbconvert_exporter": "python",
   "pygments_lexer": "ipython3",
   "version": "3.8.2"
  }
 },
 "nbformat": 4,
 "nbformat_minor": 2
}
